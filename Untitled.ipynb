{
 "cells": [
  {
   "cell_type": "code",
   "execution_count": 4,
   "metadata": {
    "scrolled": true
   },
   "outputs": [],
   "source": [
    "from lib import (to_remove_closer_elements, FolderHandler, DropboxHandler)\n",
    "import argparse"
   ]
  },
  {
   "cell_type": "code",
   "execution_count": 2,
   "metadata": {},
   "outputs": [],
   "source": [
    "parser = argparse.ArgumentParser(description='Backup to dropbox given folder')\n",
    "parser.add_argument(\"-n\",\"--name\",required=True, type=str, help=\"Folder name\")\n",
    "parser.add_argument(\"-p\",\"--path\",required=True, type=str, help=\"Local path\")\n",
    "parser.add_argument(\"-t\",\"--token\",required=False, default='/home/pi/Dropbox_api/.dbxtoken.txt', type=str, help=\"Token location\")\n",
    "args = parser.parse_args()\n",
    "\n",
    "db = DropboxHandler(args.token)\n",
    "gastos_folder = FolderHandler(args.name,args.path,db)\n",
    "gastos_folder.make_archive()\n",
    "gastos_folder.upload_file(db)\n",
    "gastos_folder.remove_archive()"
   ]
  }
 ],
 "metadata": {
  "kernelspec": {
   "display_name": "Python 3",
   "language": "python",
   "name": "python3"
  },
  "language_info": {
   "codemirror_mode": {
    "name": "ipython",
    "version": 3
   },
   "file_extension": ".py",
   "mimetype": "text/x-python",
   "name": "python",
   "nbconvert_exporter": "python",
   "pygments_lexer": "ipython3",
   "version": "3.7.3"
  }
 },
 "nbformat": 4,
 "nbformat_minor": 2
}
